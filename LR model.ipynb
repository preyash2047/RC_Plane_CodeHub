{
 "cells": [
  {
   "cell_type": "code",
   "execution_count": 16,
   "metadata": {},
   "outputs": [
    {
     "name": "stdout",
     "output_type": "stream",
     "text": [
      "[0.03438264]\n",
      "[0.05955463]\n",
      "[0.06482714]\n"
     ]
    }
   ],
   "source": [
    "#modules\n",
    "from sklearn.linear_model import LinearRegression\n",
    "import numpy as np\n",
    "import matplotlib.pyplot as plt\n",
    "\n",
    "#dataset\n",
    "x = [100.0, 157.0, 256.0]\n",
    "yh = [0.0345, 0.0536, 0.0916]\n",
    "yw = [0.0326, 0.0522, 0.0857]\n",
    "\n",
    "#for height prediction\n",
    "y = yw\n",
    "\n",
    "#for width prediction\n",
    "#y = yw\n",
    "\n",
    "#testing\n",
    "predictYonX = [105.0, 179.0, 194.5]\n",
    "#testx = 360\n",
    "#testy = 70\n",
    "\n",
    "#data preperation\n",
    "x = np.array(x).reshape(-1,1)\n",
    "predictYonX = np.array(predictYonX).reshape(-1,1)\n",
    "\n",
    "#creating model\n",
    "model = LinearRegression()\n",
    "model.fit(x,y)\n",
    "m = model.coef_[0]\n",
    "c = model.intercept_\n",
    "#print(model.predict([[105.0]]))\n",
    "for i in predictYonX:\n",
    "    #print(f\"when distance is {i} per pixel centimiter will be \",model.predict([i]))\n",
    "    print(model.predict([i]))"
   ]
  },
  {
   "cell_type": "markdown",
   "metadata": {},
   "source": [
    "# Visualization"
   ]
  },
  {
   "cell_type": "code",
   "execution_count": null,
   "metadata": {},
   "outputs": [],
   "source": []
  }
 ],
 "metadata": {
  "kernelspec": {
   "display_name": "Python 3",
   "language": "python",
   "name": "python3"
  },
  "language_info": {
   "codemirror_mode": {
    "name": "ipython",
    "version": 3
   },
   "file_extension": ".py",
   "mimetype": "text/x-python",
   "name": "python",
   "nbconvert_exporter": "python",
   "pygments_lexer": "ipython3",
   "version": "3.7.7"
  }
 },
 "nbformat": 4,
 "nbformat_minor": 4
}

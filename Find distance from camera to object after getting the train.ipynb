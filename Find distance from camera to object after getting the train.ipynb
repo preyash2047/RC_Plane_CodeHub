{
 "cells": [
  {
   "cell_type": "code",
   "execution_count": 1,
   "metadata": {},
   "outputs": [],
   "source": [
    "# import the necessary packages\n",
    "from imutils import paths\n",
    "import numpy as np\n",
    "import imutils\n",
    "import cv2\n",
    "def find_marker(image):\n",
    "    # convert the image to grayscale, blur it, and detect edges\n",
    "    gray = cv2.cvtColor(image, cv2.COLOR_BGR2GRAY)\n",
    "    gray = cv2.GaussianBlur(gray, (5, 5), 0)\n",
    "    edged = cv2.Canny(gray, 35, 125)\n",
    "    # find the contours in the edged image and keep the largest one;\n",
    "    # we'll assume that this is our piece of paper in the image\n",
    "    cnts = cv2.findContours(edged.copy(), cv2.RETR_LIST, cv2.CHAIN_APPROX_SIMPLE)\n",
    "    cnts = imutils.grab_contours(cnts)\n",
    "    c = max(cnts, key = cv2.contourArea)\n",
    "    # compute the bounding box of the of the paper region and return it\n",
    "    return cv2.minAreaRect(c)"
   ]
  },
  {
   "cell_type": "code",
   "execution_count": 2,
   "metadata": {},
   "outputs": [],
   "source": [
    "def distance_to_camera(knownWidth, focalLength, perWidth):\n",
    "    # compute and return the distance from the maker to the camera\n",
    "    return (knownWidth * focalLength) / perWidth"
   ]
  },
  {
   "cell_type": "code",
   "execution_count": 7,
   "metadata": {},
   "outputs": [],
   "source": [
    "# initialize the known distance from the camera to the object, which\n",
    "# in this case is 24 inches\n",
    "KNOWN_DISTANCE = 24.0\n",
    "# initialize the known object width, which in this case, the piece of\n",
    "# paper is 12 inches wide\n",
    "KNOWN_WIDTH = 11.0\n",
    "# load the furst image that contains an object that is KNOWN TO BE 2 feet\n",
    "# from our camera, then find the paper marker in the image, and initialize\n",
    "# the focal length\n",
    "image = cv2.imread(\"images/download.jpg\")\n",
    "marker = find_marker(image)\n",
    "focalLength = (marker[1][0] * KNOWN_DISTANCE) / KNOWN_WIDTH"
   ]
  },
  {
   "cell_type": "code",
   "execution_count": 8,
   "metadata": {},
   "outputs": [],
   "source": [
    "# loop over the images\n",
    "for imagePath in sorted(paths.list_images(\"images\")):\n",
    "    # load the image, find the marker in the image, then compute the\n",
    "    # distance to the marker from the camera\n",
    "    image = cv2.imread(imagePath)\n",
    "    marker = find_marker(image)\n",
    "    inches = distance_to_camera(KNOWN_WIDTH, focalLength, marker[1][0])\n",
    "    # draw a bounding box around the image and display it\n",
    "    box = cv2.cv.BoxPoints(marker) if imutils.is_cv2() else cv2.boxPoints(marker)\n",
    "    box = np.int0(box)\n",
    "    cv2.drawContours(image, [box], -1, (0, 255, 0), 2)\n",
    "    cv2.putText(image, \"%.2fft\" % (inches / 12),\n",
    "        (image.shape[1] - 200, image.shape[0] - 20), cv2.FONT_HERSHEY_SIMPLEX,\n",
    "        2.0, (0, 255, 0), 3)\n",
    "    cv2.imshow(\"image\", image)\n",
    "    cv2.waitKey(0)"
   ]
  },
  {
   "cell_type": "code",
   "execution_count": 5,
   "metadata": {},
   "outputs": [
    {
     "data": {
      "text/plain": [
       "'H:\\\\Learning\\\\Python\\\\GitHub Projects\\\\RC_Plane_CodeHub'"
      ]
     },
     "execution_count": 5,
     "metadata": {},
     "output_type": "execute_result"
    }
   ],
   "source": [
    "pwd"
   ]
  },
  {
   "cell_type": "code",
   "execution_count": null,
   "metadata": {},
   "outputs": [],
   "source": []
  }
 ],
 "metadata": {
  "kernelspec": {
   "display_name": "Python 3",
   "language": "python",
   "name": "python3"
  },
  "language_info": {
   "codemirror_mode": {
    "name": "ipython",
    "version": 3
   },
   "file_extension": ".py",
   "mimetype": "text/x-python",
   "name": "python",
   "nbconvert_exporter": "python",
   "pygments_lexer": "ipython3",
   "version": "3.8.1"
  }
 },
 "nbformat": 4,
 "nbformat_minor": 4
}
